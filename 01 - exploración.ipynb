# -*- coding: utf-8 -*-
"""
Created on Fri Apr 11 18:25:50 2025

"""

import pandas as pd


data = pd.read_csv("D:/DOCS/I.A/train.csv")


print("Primeras filas del DataFrame:")
print(data.head())



print("\nInformación sobre las columnas:")
print(data.info())

print("\nDescripción estadística de los datos numéricos:")
print(data.describe())


num_rows, num_cols = data.shape
print("\nNúmero de filas:", num_rows)
print("Número de columnas:", num_cols)


if 'FAMI_ESTRATOVIVIENDA' in data.columns:


    conteo_estratos = data['FAMI_ESTRATOVIVIENDA'].value_counts()
    print("\nNúmero de estudiantes en cada estrato de vivienda:")
    print(conteo_estratos)
else:
    print("\nLa columna 'FAMI_ESTRATOVIVIENDA' no está presente en el DataFrame.")
    
    
    